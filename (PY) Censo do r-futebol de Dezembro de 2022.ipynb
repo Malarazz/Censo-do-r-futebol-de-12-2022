{
 "cells": [
  {
   "cell_type": "code",
   "execution_count": 1,
   "id": "0cf2523d",
   "metadata": {},
   "outputs": [
    {
     "data": {
      "text/html": [
       "<style>.container { width:100% !important; }</style>"
      ],
      "text/plain": [
       "<IPython.core.display.HTML object>"
      ]
     },
     "metadata": {},
     "output_type": "display_data"
    }
   ],
   "source": [
    "import numpy as np\n",
    "import pandas as pd\n",
    "import datetime as datetime\n",
    "import os, sys, glob, re\n",
    "import matplotlib.pyplot as plt\n",
    "import seaborn as sns\n",
    "from IPython.core.display import display, HTML\n",
    "display(HTML(\"<style>.container { width:100% !important; }</style>\"))\n",
    "pd.set_option('display.width', 2200)\n",
    "pd.options.mode.chained_assignment = None\n",
    "pd.set_option(\"display.max_columns\", 100)\n",
    "pd.set_option(\"display.max_rows\", 800)\n",
    "pd.set_option(\"display.max_colwidth\", 100)"
   ]
  },
  {
   "cell_type": "code",
   "execution_count": 2,
   "id": "ebfe1797",
   "metadata": {},
   "outputs": [],
   "source": [
    "path = {'filepath': r'P:\\Projects'}\n",
    "os.chdir(path['filepath'])"
   ]
  },
  {
   "cell_type": "code",
   "execution_count": 3,
   "id": "68a85312",
   "metadata": {},
   "outputs": [],
   "source": [
    "df = pd.read_excel('WIP Censo do r_futebol - 11_2022.xlsx')"
   ]
  },
  {
   "cell_type": "code",
   "execution_count": 4,
   "id": "b614bc88",
   "metadata": {},
   "outputs": [
    {
     "data": {
      "text/plain": [
       "{'Grêmio': 'Rio Grande do Sul',\n",
       " 'Inter': 'Rio Grande do Sul',\n",
       " 'Athletico-PR': 'Paraná',\n",
       " 'Coritiba': 'Paraná',\n",
       " 'Atlético-MG': 'Minas Gerais',\n",
       " 'Cruzeiro': 'Minas Gerais',\n",
       " 'Botafogo-RJ': 'Rio de Janeiro',\n",
       " 'Flamengo': 'Rio de Janeiro',\n",
       " 'Fluminense': 'Rio de Janeiro',\n",
       " 'Vasco': 'Rio de Janeiro',\n",
       " 'Corinthians': 'São Paulo',\n",
       " 'Palmeiras': 'São Paulo',\n",
       " 'Santos': 'São Paulo',\n",
       " 'São Paulo': 'São Paulo'}"
      ]
     },
     "execution_count": 4,
     "metadata": {},
     "output_type": "execute_result"
    }
   ],
   "source": [
    "# Essa é parte mais antiga do script, mas no fim eu nem usei o dicionário porque eu simplesmente não sei trabalhar com dicionários no Python.\n",
    "# O Coritiba só entrou pro Athletico ter um rival, mas a realidade é que bem poucos Coritibanos responderam o censo, e portanto o clube entrou no grupo dos \"Outros\" nos gráficos finais.\n",
    "\n",
    "\n",
    "estados = list(('Rio Grande do Sul', 'Rio Grande do Sul', 'Paraná', 'Paraná', 'Minas Gerais', 'Minas Gerais', 'Rio de Janeiro', 'Rio de Janeiro', 'Rio de Janeiro', 'Rio de Janeiro', 'São Paulo', 'São Paulo', 'São Paulo', 'São Paulo'))\n",
    "grandes = list(('Grêmio', 'Inter', 'Athletico-PR', 'Coritiba', 'Atlético-MG', 'Cruzeiro', 'Botafogo-RJ', 'Flamengo', 'Fluminense', 'Vasco', 'Corinthians', 'Palmeiras', 'Santos', 'São Paulo'))\n",
    "grandesdict = dict(zip(grandes, estados))\n",
    "grandesdict"
   ]
  },
  {
   "cell_type": "code",
   "execution_count": 5,
   "id": "024d828d",
   "metadata": {},
   "outputs": [],
   "source": [
    "# No início a ideia era criar dummy variables pra cada membro do clube dos 14, mas no fim essa ideia não foi usada.\n",
    "\n",
    "\n",
    "for i in grandes:\n",
    "    df[i] = ((df.iloc[:, 43] == i) | (df.iloc[:, 46] == i))"
   ]
  },
  {
   "cell_type": "code",
   "execution_count": 6,
   "id": "ae969391",
   "metadata": {},
   "outputs": [
    {
     "data": {
      "text/plain": [
       "Palmeiras                                                93\n",
       "Flamengo                                                 91\n",
       "Corinthians                                              87\n",
       "São Paulo                                                66\n",
       "Grêmio                                                   44\n",
       "Fluminense                                               37\n",
       "Atlético-MG                                              34\n",
       "Inter                                                    33\n",
       "Vasco                                                    31\n",
       "Cruzeiro                                                 28\n",
       "Santos                                                   21\n",
       "Nenhum                                                   20\n",
       "Botafogo-RJ                                              17\n",
       "Athletico-PR                                             15\n",
       "Bahia                                                    11\n",
       "Ceará                                                    10\n",
       "Coritiba                                                  8\n",
       "Fortaleza                                                 8\n",
       "América-MG                                                6\n",
       "Goiás                                                     5\n",
       "Paraná                                                    5\n",
       "Sampaio Corrêa                                            4\n",
       "Sport                                                     4\n",
       "Paysandu                                                  3\n",
       "Criciúma                                                  3\n",
       "Náutico                                                   3\n",
       "Vitória                                                   2\n",
       "Santa Cruz                                                2\n",
       "Chape                                                     2\n",
       "Cuiabá                                                    2\n",
       "Atlético-GO                                               2\n",
       "América-RN                                                2\n",
       "Avaí                                                      2\n",
       "Remo                                                      2\n",
       "Botafogo-PB                                               2\n",
       "Guarani                                                   2\n",
       "Juventude                                                 2\n",
       "Bragantino                                                2\n",
       "Inter de Limeira                                          1\n",
       "Goytacaz                                                  1\n",
       "Merda rala fc                                             1\n",
       "Treze - PB                                                1\n",
       "FC Porto                                                  1\n",
       "River - PI                                                1\n",
       "Rio Branco ES                                             1\n",
       "CSA                                                       1\n",
       "Volta Redonda                                             1\n",
       "Paulista de Jundiaí                                       1\n",
       "Benfica                                                   1\n",
       "Londrina                                                  1\n",
       "Vila Nova                                                 1\n",
       "Ser                                                       1\n",
       "Xv De Piracicaba                                          1\n",
       "ABC-RN                                                    1\n",
       "Madureira                                                 1\n",
       "Campinense                                                1\n",
       "Santo André                                               1\n",
       "Manaus                                                    1\n",
       "Treze / PB                                                1\n",
       "Goran Pandev                                              1\n",
       "Solte a minha família                                     1\n",
       "Todos menos o Grêmio Vai toma no cu ditadura gremista     1\n",
       "São Raimundo-PA                                           1\n",
       "Marte FC                                                  1\n",
       "Everton                                                   1\n",
       "Cascavel FC                                               1\n",
       "Porto                                                     1\n",
       "independiente de avellaneda, defensores de belgrano       1\n",
       "Name: Clube, dtype: int64"
      ]
     },
     "execution_count": 6,
     "metadata": {},
     "output_type": "execute_result"
    }
   ],
   "source": [
    "# Esse script limpa a variável do clube principal.\n",
    "\n",
    "\n",
    "def Clube(x):\n",
    "    try:\n",
    "        if x == 'Galo':\n",
    "            return 'Atlético-MG'\n",
    "        else:\n",
    "            return x\n",
    "    except Exception as e:\n",
    "        return 'error'\n",
    "    \n",
    "    \n",
    "df['Clube'] = df['Pra qual clube você torce? (Em caso de haver dois, aquele geograficamente mais próximo de você)'].apply(lambda row: Clube(row))\n",
    "df['Clube'].value_counts()"
   ]
  },
  {
   "cell_type": "code",
   "execution_count": 7,
   "id": "2da3ca3d",
   "metadata": {},
   "outputs": [
    {
     "data": {
      "text/plain": [
       "False    455\n",
       "True     150\n",
       "Name: Interestadual, dtype: int64"
      ]
     },
     "execution_count": 7,
     "metadata": {},
     "output_type": "execute_result"
    }
   ],
   "source": [
    "# Esse script define se a pessoa é associada com o estado do seu clube ou não (seja por nascer lá ou por morar lá)\n",
    "# Perceba que o censo não tem como saber se a pessoa cresceu no estado e se mudou recentemente.\n",
    "\n",
    "\n",
    "def Interestadual(x, y, z):\n",
    "    try:\n",
    "        for i in range(14):\n",
    "            if z == grandes[i]:\n",
    "                if x == estados[i] or y == estados[i]:\n",
    "                    return False\n",
    "                else:\n",
    "                    return True\n",
    "    except Exception as e:\n",
    "        return 'error'\n",
    "\n",
    "    \n",
    "df['Interestadual'] = df.apply(lambda row: Interestadual(row['Onde você nasceu?'], \n",
    "                                                         row['Onde você mora atualmente?'], \n",
    "                                                         row['Clube']), axis = 1)\n",
    "df['Interestadual'].value_counts()"
   ]
  },
  {
   "cell_type": "code",
   "execution_count": 8,
   "id": "27290b63",
   "metadata": {},
   "outputs": [
    {
     "data": {
      "text/plain": [
       "Usuário novo        413\n",
       "Usuário veterano    278\n",
       "Não-usuário          46\n",
       "Name: Usuário, dtype: int64"
      ]
     },
     "execution_count": 8,
     "metadata": {},
     "output_type": "execute_result"
    }
   ],
   "source": [
    "# Esse script define três tipos de usuário, os não-usuários que vieram só pela Copa, os que têm menos de 2 anos de sub, e os que têm mais de 2 anos de sub.\n",
    "# Perceba que muitos dos não-usuários vieram pela Copa mas continuarão participando do sub.\n",
    "# O censo não tem como saber quais não-usuários continuarão participando e quais não.\n",
    "# Os não-usuários foram excluídos de muitos dos gráficos finais, pois o intuito é fazer um censo do sub em si. Eles podem fácilmente ser reacrescentados se quisermos ver os gráficos com eles incluídos.\n",
    "\n",
    "\n",
    "def Usuário(x):\n",
    "    try:\n",
    "        if x == 'Há 1 mês ou menos':\n",
    "            return 'Não-usuário'\n",
    "        elif x == 'Há menos de 6 meses, mas já acompanhava desde antes da Copa':\n",
    "            return 'Usuário novo'\n",
    "        elif x == 'Entre 6 meses e 1 ano':\n",
    "            return 'Usuário novo'\n",
    "        elif x == 'Entre 1 e 2 anos':\n",
    "            return 'Usuário novo'\n",
    "        elif x == 'Quase 2 anos (23 meses)':\n",
    "            return 'Usuário novo'\n",
    "        elif x == 'Entre 2 e 3 anos':\n",
    "            return 'Usuário veterano'\n",
    "        elif x == 'Entre 3 e 4 anos':\n",
    "            return 'Usuário veterano'\n",
    "        elif x == 'Entre 4 e 5 anos':\n",
    "            return 'Usuário veterano'\n",
    "        elif x == 'Mais de 5 anos':\n",
    "            return 'Usuário veterano'\n",
    "    except Exception as e:\n",
    "        return 'error'\n",
    "    \n",
    "    \n",
    "df['Usuário'] = df['Há quanto tempo você acompanha o /r/futebol?'].apply(lambda row: Usuário(row))\n",
    "df['Usuário'].value_counts()"
   ]
  },
  {
   "cell_type": "code",
   "execution_count": 9,
   "id": "94e32fe5",
   "metadata": {},
   "outputs": [
    {
     "data": {
      "text/plain": [
       "1.0    339\n",
       "2.0    286\n",
       "0.0     58\n",
       "3.0     46\n",
       "Name: TipoDeUsuárioSimples, dtype: int64"
      ]
     },
     "metadata": {},
     "output_type": "display_data"
    },
    {
     "data": {
      "text/plain": [
       "1.0    339\n",
       "3.0    286\n",
       "0.0     58\n",
       "4.0     46\n",
       "Name: TipoDeUsuárioWeighted, dtype: int64"
      ]
     },
     "metadata": {},
     "output_type": "display_data"
    }
   ],
   "source": [
    "# Existem duas maneiras de diferenciar os usuários: o jeito simples de 0 a 3, e um segundo método que dá um peso maior pra diferenciar ainda mais usuários que escrevem ou postam de lurkers.\n",
    "# Essa classificação numérica acabou não sendo usada nos gráficos finais, apenas a classificação categórica original.\n",
    "\n",
    "\n",
    "def TipoDeUsuárioSimples(x):\n",
    "    try:\n",
    "        if x == 'Leio as threads, mas raramente faço a minha própria ou leio os comentários':\n",
    "            return 0\n",
    "        elif x == 'Leio as threads e comentários, mas raramente escrevo o meu próprio':\n",
    "            return 1\n",
    "        elif x == 'Leio threads e comentários, nunca faço nenhum.':\n",
    "            return 1\n",
    "        elif x == 'Escrevo comentários, mas raramente crio threads':\n",
    "            return 2\n",
    "        elif x == 'Crio threads e escrevo comentários seguidamente':\n",
    "            return 3\n",
    "    except Exception as e:\n",
    "        return 'error'\n",
    "    \n",
    "df['TipoDeUsuárioSimples'] = df['Que tipo de usuário você é?'].apply(lambda row: TipoDeUsuárioSimples(row))\n",
    "display(df['TipoDeUsuárioSimples'].value_counts())\n",
    "\n",
    "\n",
    "def TipoDeUsuárioWeighted(x):\n",
    "    try:\n",
    "        if x == 'Leio as threads, mas raramente faço a minha própria ou leio os comentários':\n",
    "            return 0\n",
    "        elif x == 'Leio as threads e comentários, mas raramente escrevo o meu próprio':\n",
    "            return 1\n",
    "        elif x == 'Leio threads e comentários, nunca faço nenhum.':\n",
    "            return 1\n",
    "        elif x == 'Escrevo comentários, mas raramente crio threads':\n",
    "            return 3\n",
    "        elif x == 'Crio threads e escrevo comentários seguidamente':\n",
    "            return 4\n",
    "    except Exception as e:\n",
    "        return 'error'\n",
    "    \n",
    "    \n",
    "df['TipoDeUsuárioWeighted'] = df['Que tipo de usuário você é?'].apply(lambda row: TipoDeUsuárioWeighted(row))\n",
    "display(df['TipoDeUsuárioWeighted'].value_counts())"
   ]
  },
  {
   "cell_type": "code",
   "execution_count": 10,
   "id": "3785302a",
   "metadata": {},
   "outputs": [
    {
     "data": {
      "text/plain": [
       "Index(['Timestamp', 'Onde você nasceu?', 'Se você não nasceu no Brasil, escreva o nome do país onde você nasceu, ou em Português ou em Inglês.', 'Onde você mora atualmente?', 'Se você não mora no Brasil, escreva o nome do país onde você mora, ou em Português ou em Inglês.', 'Com qual gênero você se identifica?', 'Qual é sua orientação sexual?', 'Qual é sua cor ou raça?', 'Qual é sua idade? Escreva em números aqui ou selecione sua faixa etária abaixo.', 'Se preferir, selecione sua faixa etária.', 'Qual é o seu grau de escolaridade?', 'Se você cursou ou está cursando o Ensino Superior, qual é sua área de formação?', 'Qual é sua situação no mercado de trabalho?', 'Qual é seu status de relacionamento?', 'Há quanto tempo você usa o reddit?', 'Numa escala de 1 (nem um pouco) a 10 (muito), o quanto você diria que é apaixonado pelo futebol? Escreva em números.', 'Há quanto tempo você acompanha o /r/futebol?', 'Que tipo de usuário você é?', 'Como você descobriu o /r/futebol?', 'Você costuma navegar o /r/futebol por New? (posts mais recentes aparecem primeiro)', 'Voce lê ou comenta nas threads semanais? (Fala Zezé e Cala a Boca Zezé)', 'Se sim, quando normalmente?', 'Você usa flairs pra filtrar ou organizar o conteúdo do r/futebol? (por exemplo: Humor, Notícias, Discussão, etc.)', 'Você frequenta o subreddit do seu clube?', 'Você já conferiu o outro subreddit brasileiro de futebol, o /r/Futebola?', 'Você participa de um Discord sobre futebol?', 'Quantas partidas de futebol você costuma assistir por semana?', 'Como você costuma assistir as partidas de futebol que você assiste em casa?', 'O que você costuma usar pra assistir as partidas em casa?', 'Você assistiu a quantas partidas no estádio em 2022?', 'Você costuma assistir partidas sem ser nem seu time nem seu rival jogando?', 'Você acompanha as ligas nacionais de quais países? (Selecione todas que acompanhar)', 'Você costuma assistir campeonatos estaduais? Se sim, quantos jogos?', 'Se você acompanha campeonatos estaduais, você acompanha os de quais estados? (Selecione todos que acompanhar)', 'Como você acha que devem mudar os estaduais? (Tente selecionar a opção mais próxima da sua ideia)',\n",
       "       'Enquanto continuar existindo estaduais no formato atual, você acha que clubes grandes deveriam disputar com força máxima ou com reservas/sub-23?', 'Você joga futebol? Se sim, quanto normalmente?', 'Você joga games de futebol? Se sim, quais? (Selecione todos que jogar)', 'Você costuma assistir futebol feminino?', 'Além do futebol, qual outro esporte ou e-sport você costuma assistir? (Selecione todos que assistir)', 'Você gostaria se a seleção Brasileira ganhasse a Copa?', 'Qual é a principal seleção pra qual você torceu ou está torcendo nessa Copa?', 'Fora o Brasil, com qual seleção você mais simpatizou ou simpatiza?', 'Pra qual clube você torce? (Em caso de haver dois, aquele geograficamente mais próximo de você)', 'Aproximadamente o quão longe você mora do estádio do seu clube?', 'Você se considera torcedor de dois clubes brasileiros?', 'Qual é o segundo clube (aquele que fica geograficamente mais longe de você) pro qual você torce?', 'Fora o(s) rival(is), qual clube você mais quer ver perder?', 'Fora o(s) seu(s) clube(s) do coração, com qual clube você mais simpatiza?', 'Você faz ou já fez parte de alguma torcida organizada?', 'Você já tentou seriamente virar jogador de futebol profissional?', 'Você já tentou ou planeja tentar ganhar a vida através do futebol, sem ser como jogador?', 'Se sim, como?', 'Você aposta dinheiro em futebol?', 'Grêmio', 'Inter', 'Athletico-PR', 'Coritiba', 'Atlético-MG', 'Cruzeiro', 'Botafogo-RJ', 'Flamengo', 'Fluminense', 'Vasco', 'Corinthians', 'Palmeiras', 'Santos', 'São Paulo', 'Clube', 'Interestadual', 'Usuário', 'TipoDeUsuárioSimples', 'TipoDeUsuárioWeighted'],\n",
       "      dtype='object')"
      ]
     },
     "execution_count": 10,
     "metadata": {},
     "output_type": "execute_result"
    }
   ],
   "source": [
    "df.columns"
   ]
  },
  {
   "cell_type": "code",
   "execution_count": 11,
   "id": "babf7b85",
   "metadata": {},
   "outputs": [
    {
     "data": {
      "text/plain": [
       "False    761\n",
       "True      14\n",
       "Name: Problema, dtype: int64"
      ]
     },
     "metadata": {},
     "output_type": "display_data"
    }
   ],
   "source": [
    "# Esse script corrige usuários que escolheram o seu clube como o clube que ele simpatiza na resposta de \"fora seus clubes de coração, com qual clube você mais simpatiza?\"\n",
    "# O Santos foi considerado como não ter rival, e o censo corrobora essa decisão, visto que a esmagadora maioria dos Santistas escolheram o Flamengo, enquanto que apenas um o Palmeiras, apenas um o Corinthians, um o Bragantino, e nenhum o São Paulo.\n",
    "\n",
    "\n",
    "def Problema(x, y, z):\n",
    "    try:\n",
    "        if x == z:\n",
    "            return True\n",
    "        elif y == z:\n",
    "            return True\n",
    "        else:\n",
    "            return False\n",
    "    except Exception as e:\n",
    "        return False\n",
    "    \n",
    "    \n",
    "df['Problema'] = df.apply(lambda row: Problema(row['Clube'], \n",
    "                                               row['Qual é o segundo clube (aquele que fica geograficamente mais longe de você) pro qual você torce?'], \n",
    "                                               row['Fora o(s) seu(s) clube(s) do coração, com qual clube você mais simpatiza?']), axis = 1)\n",
    "display(df['Problema'].value_counts())\n",
    "\n",
    "\n",
    "def Solução(x, y):\n",
    "    if y == True:\n",
    "        return 'Problema'\n",
    "    else:\n",
    "        return x\n",
    "    \n",
    "    \n",
    "df['Simpáticos'] = df.apply(lambda row: Solução(row['Fora o(s) seu(s) clube(s) do coração, com qual clube você mais simpatiza?'], \n",
    "                                                row['Problema']), axis = 1)\n",
    "#display(df['Simpáticos'].value_counts())"
   ]
  },
  {
   "cell_type": "code",
   "execution_count": 12,
   "id": "9034b317",
   "metadata": {},
   "outputs": [
    {
     "data": {
      "text/plain": [
       "False    736\n",
       "True      39\n",
       "Name: Problema2, dtype: int64"
      ]
     },
     "metadata": {},
     "output_type": "display_data"
    }
   ],
   "source": [
    "# Esse script corrige usuários que escolheram um rival seu na resposta de \"fora seus rivais, qual clube você mais quer ver perder?\"\n",
    "# O Santos foi considerado como não ter rival, e o censo corrobora essa decisão, visto que a esmagadora maioria dos Santistas escolheram o Flamengo, enquanto que apenas um o Palmeiras, apenas um o Corinthians, um o Bragantino, e nenhum o São Paulo.\n",
    "\n",
    "\n",
    "def Problema2(x, y, z, s):\n",
    "    try:\n",
    "        if s == True:\n",
    "            return False\n",
    "        elif grandesdict[x] == grandesdict[z]:\n",
    "            return True\n",
    "        elif grandesdict[y] == grandesdict[z]:\n",
    "            return True\n",
    "        else:\n",
    "            return False\n",
    "    except Exception as e:\n",
    "        return False\n",
    "    \n",
    "    \n",
    "df['Problema2'] = df.apply(lambda row: Problema2(row['Clube'], \n",
    "                                                 row['Qual é o segundo clube (aquele que fica geograficamente mais longe de você) pro qual você torce?'], \n",
    "                                                 row['Fora o(s) rival(is), qual clube você mais quer ver perder?'], \n",
    "                                                 row['Santos']), axis = 1)\n",
    "display(df['Problema2'].value_counts())\n",
    "\n",
    "\n",
    "def Solução2(x, y, z):\n",
    "    if y == True and z == False:\n",
    "        return 'Problema'\n",
    "    else:\n",
    "        return x\n",
    "    \n",
    "    \n",
    "df['Antipáticos'] = df.apply(lambda row: Solução2(row['Fora o(s) rival(is), qual clube você mais quer ver perder?'], \n",
    "                                                  row['Problema2'],\n",
    "                                                  row['Santos']), axis = 1)"
   ]
  },
  {
   "cell_type": "code",
   "execution_count": 13,
   "id": "3f454326",
   "metadata": {},
   "outputs": [],
   "source": [
    "# Essa foi a primeiras grande ideia que eu tive pro censo. Eu queria ver se o nível de sucesso do clube do usuário afeta o seu amor pelo futebol, a quantidade de partidas que ele assiste, etc.\n",
    "# É uma hipótese um tanto plausível, mas não fará parte dos gráficos finais, pois o censo concluiu que não. O Flamenguista e o Palmeirense não amam o futebol mais que o Vascaíno nem assiste mais partidas que o Gremista só por estarem mais felizes com seus times.\n",
    "# Por um lado até foi bom não ter dado certo, pois seria complicado eu ter que explicar como classifiquei cada time.\n",
    "# Alguns são bem óbvio, ninguém nega que Flamengo, Palmeiras, e Athletico pertencem ao primeiro escalão. Ninguém também pode negar que Vasco, Cruzeiro, e Grêmio pertencem ao último.\n",
    "# Já outros clubes são bem mais polêmicos.\n",
    "\n",
    "def TipoDeTorcedor(a, b, c, d, e, f, g, h, i, j, k, l, m, n):\n",
    "    if c == True or h == True or l == True:\n",
    "        return 'torcedor_contente'\n",
    "    elif e == True or i == True or k == True or m == True or n == True:\n",
    "        return 'torcedor_normal'\n",
    "    elif a == True or b == True or d == True or f == True or g == True or j == True:\n",
    "        return 'torcedor_descontente'\n",
    "\n",
    "    \n",
    "df['Tipo de Torcedor'] = df.apply(lambda row: TipoDeTorcedor(row['Grêmio'], row['Inter'], row['Athletico-PR'], row['Coritiba'], row['Atlético-MG'], row['Cruzeiro'], row['Botafogo-RJ'], \n",
    "                                                             row['Flamengo'], row['Fluminense'], row['Vasco'], row['Corinthians'], row['Palmeiras'], row['Santos'], row['São Paulo']), axis = 1)"
   ]
  },
  {
   "cell_type": "code",
   "execution_count": 14,
   "id": "85e56aba",
   "metadata": {},
   "outputs": [
    {
     "data": {
      "text/plain": [
       "27.0    121\n",
       "18.0    100\n",
       "22.5     74\n",
       "32.0     63\n",
       "23.0     33\n",
       "25.0     32\n",
       "26.0     30\n",
       "24.0     27\n",
       "20.0     24\n",
       "29.0     23\n",
       "22.0     23\n",
       "28.0     19\n",
       "17.0     18\n",
       "14.5     17\n",
       "21.0     16\n",
       "19.0     15\n",
       "30.0     14\n",
       "16.0     14\n",
       "37.0     14\n",
       "31.0     12\n",
       "42.0      8\n",
       "33.0      7\n",
       "34.0      6\n",
       "36.0      5\n",
       "14.0      4\n",
       "39.0      3\n",
       "35.0      2\n",
       "50.0      1\n",
       "40.0      1\n",
       "90.0      1\n",
       "15.0      1\n",
       "44.0      1\n",
       "99.0      1\n",
       "45.0      1\n",
       "46.0      1\n",
       "12.0      1\n",
       "38.0      1\n",
       "Name: Idade, dtype: int64"
      ]
     },
     "execution_count": 14,
     "metadata": {},
     "output_type": "execute_result"
    }
   ],
   "source": [
    "# Esse script limpa os dados de idade (e.g. cortar os \"anos\" de \"17 anos\") e tira a média pro pessoal que não quis colocar a idade exata.\n",
    "\n",
    "\n",
    "def trim_age(x):\n",
    "    return str(x)[:2]\n",
    "\n",
    "\n",
    "df['Idade Limpa'] = df['Qual é sua idade? Escreva em números aqui ou selecione sua faixa etária abaixo.'].apply(lambda row: trim_age(row))\n",
    "\n",
    "\n",
    "def Idade(x, y):\n",
    "    try: \n",
    "        if int(x) > 0:\n",
    "            return int(x)\n",
    "    except Exception as e:\n",
    "        if y == 'Menos de 16':\n",
    "            return 14.5\n",
    "        elif y == 'Entre 16 e 20':\n",
    "            return 18\n",
    "        elif y == 'Entre 21 e 24':\n",
    "            return 22.5\n",
    "        elif y == 'Entre 25 e 29':\n",
    "            return 27\n",
    "        elif y == 'Entre 30 e 34':\n",
    "            return 32\n",
    "        elif y == 'Entre 35 e 39':\n",
    "            return 37\n",
    "        elif y == 'Entre 40 e 44':\n",
    "            return 42\n",
    "        elif y == 'Mais de 44':\n",
    "            return 46\n",
    "    \n",
    "    \n",
    "df['Idade'] = df.apply(lambda row: Idade(row['Idade Limpa'],\n",
    "                                         row['Se preferir, selecione sua faixa etária.']), axis = 1)\n",
    "df['Idade'].value_counts()"
   ]
  },
  {
   "cell_type": "code",
   "execution_count": 15,
   "id": "b1ea45f0",
   "metadata": {},
   "outputs": [],
   "source": [
    "# Esse script limpa os dados da escala de paixão.\n",
    "\n",
    "def Paixão(x):\n",
    "    try:\n",
    "        if x <= 10:\n",
    "            return x\n",
    "        elif x > 10:\n",
    "            return 10\n",
    "    except Exception as e:\n",
    "        if str(x).strip() == '7,5':\n",
    "            return 7.5\n",
    "        elif str(x).strip() == 'Oito.':\n",
    "            return 8.8\n",
    "        elif str(x).strip() == '8,8':\n",
    "            return 8.8\n",
    "        elif str(x).strip() == '8,8':\n",
    "            return 8.67\n",
    "        elif str(x).strip() == 'é deiz':\n",
    "            return 10\n",
    "        elif str(x).strip() == '8,5':\n",
    "            return 8.5\n",
    "        elif str(x).strip() == '9. 10 é só pelo meu time':\n",
    "            return 9\n",
    "        elif str(x).strip() == '9,86666...':\n",
    "            return 9.8667\n",
    "        elif str(x).strip() == '10 né malandro ta tirano':\n",
    "            return 10\n",
    "        elif str(x).strip() == '8 (sccp 7 x 1 santos)':\n",
    "            return 8\n",
    "    \n",
    "    \n",
    "df['Paixão'] = df['Numa escala de 1 (nem um pouco) a 10 (muito), o quanto você diria que é apaixonado pelo futebol? Escreva em números.'].apply(lambda row: Paixão(row))"
   ]
  },
  {
   "cell_type": "code",
   "execution_count": 16,
   "id": "2ea69605",
   "metadata": {},
   "outputs": [],
   "source": [
    "# Esse script converte os dados de partidas assistidas por semana numa quantidade numérica.\n",
    "\n",
    "\n",
    "def Assistir(x):\n",
    "    try:\n",
    "        if x == 'Nunca ou quase nunca assisto':\n",
    "            return 0\n",
    "        elif x == '1 ou 2 partidas por mês':\n",
    "            return 0.3448\n",
    "        elif x == '1 ou 2 partidas por semana':\n",
    "            return 1.5\n",
    "        elif x == '3 ou 4 partidas por semana':\n",
    "            return 3.5\n",
    "        elif x == '5 ou 6 partidas por semana':\n",
    "            return 5.5\n",
    "        elif x == '7 ou mais':\n",
    "            return 7.5\n",
    "        elif x == 'Uma':\n",
    "            return 1\n",
    "        elif x == '2 ou 3 por semana':\n",
    "            return 2.5\n",
    "    except Exception as e:\n",
    "        return 'error'\n",
    "    \n",
    "    \n",
    "df['Assistir'] = df['Quantas partidas de futebol você costuma assistir por semana?'].apply(lambda row: Assistir(row))"
   ]
  },
  {
   "cell_type": "code",
   "execution_count": 17,
   "id": "fe792421",
   "metadata": {},
   "outputs": [],
   "source": [
    "# Esse script converte os dados de partidas assistidas no estádio numa quantidade numérica.\n",
    "\n",
    "\n",
    "def Estádio(x):\n",
    "    try:\n",
    "        if str(x) == 0 or x == 0:\n",
    "            return 0\n",
    "        elif x == '1 ou 2':\n",
    "            return 1.5\n",
    "        elif x == '3 ou 4':\n",
    "            return 3.5\n",
    "        elif x == '5 ou 6':\n",
    "            return 5.5\n",
    "        elif x == '7 ou 8':\n",
    "            return 7.5\n",
    "        elif x == '9 ou mais':\n",
    "            return 9.5\n",
    "        elif x == 'Todas do Palmeiras em casa menos duas, dá mais de 30':\n",
    "            return 9.5\n",
    "    except Exception as e:\n",
    "        return 'error'\n",
    "\n",
    "    \n",
    "df['Estádio'] = df['Você assistiu a quantas partidas no estádio em 2022?'].apply(lambda row: Estádio(row))"
   ]
  },
  {
   "cell_type": "code",
   "execution_count": 18,
   "id": "a240c0be",
   "metadata": {},
   "outputs": [],
   "source": [
    "# Esse script cria uma classificação numérica pro grau no qual o usuário assiste partidas como espectador.\n",
    "# Essa classificação acabou não sendo usada nos gráficos finais.\n",
    "\n",
    "\n",
    "def Espectador(x):\n",
    "    try:\n",
    "        if x == 'Não':\n",
    "            return 0\n",
    "        elif x == 'Apenas clássicos, decisões, ou entre times fortes':\n",
    "            return 1\n",
    "        elif x == 'Sim, mesmo sem ser um jogo importante':\n",
    "            return 2\n",
    "        elif x == 'Só vejo jogos importantes':\n",
    "            return 1\n",
    "    except Exception as e:\n",
    "        return 'error'\n",
    "    \n",
    "    \n",
    "df['Espectador'] = df['Você costuma assistir partidas sem ser nem seu time nem seu rival jogando?'].apply(lambda row: Espectador(row))"
   ]
  },
  {
   "cell_type": "code",
   "execution_count": 19,
   "id": "9406ef8e",
   "metadata": {},
   "outputs": [],
   "source": [
    "# Esse script tentou diferenciar usuários entre aqueles que moram longe e aqueles que moram perto do seu time.\n",
    "# Essa classificação não deu certo e eu acabei desistindo dela.\n",
    "\n",
    "\n",
    "def Longe(a, b, x, y):\n",
    "    try:\n",
    "        if a == 'Outro país' and b == 'Outro país':\n",
    "            return False\n",
    "        elif x == 'Nenhum':\n",
    "            return 'Sem time'\n",
    "        elif y == 'Não há' or y != y:\n",
    "            if a == grandesdict[x] or b == grandesdict[x]:\n",
    "                return False\n",
    "            else:\n",
    "                return True\n",
    "        elif a == grandesdict[x] or a == grandesdict[y] or b == grandesdict[x] or b == grandesdict[y]:\n",
    "            return False\n",
    "        else:\n",
    "            return True\n",
    "    except Exception as e:\n",
    "        return 'error'\n",
    "    \n",
    "    \n",
    "df['Longe'] = df.apply(lambda row: Longe(row['Onde você nasceu?'],\n",
    "                                         row['Onde você mora atualmente?'], \n",
    "                                         row['Clube'], \n",
    "                                         row['Qual é o segundo clube (aquele que fica geograficamente mais longe de você) pro qual você torce?']), axis = 1)"
   ]
  },
  {
   "cell_type": "code",
   "execution_count": 20,
   "id": "e3cda3d3",
   "metadata": {},
   "outputs": [],
   "source": [
    "# Esse script define se o usuário torce pro clube dos 14 ou não.\n",
    "# Essa classificação acabou não sendo usada nos gráficos finais.\n",
    "\n",
    "\n",
    "def TorcedorDoClubeDos14(a, b, c, d, e, f, g, h, i, j, k, l, m, n):\n",
    "    if a == True or b == True or c == True or d == True or e == True or f == True or g == True or h == True or i == True or j == True or k == True or l == True or m == True or n == True:\n",
    "        return True\n",
    "    else:\n",
    "        return False\n",
    "\n",
    "df['Torcedor do Clube dos 14'] = df.apply(lambda row: TorcedorDoClubeDos14(row['Grêmio'], row['Inter'], row['Athletico-PR'], row['Coritiba'], row['Atlético-MG'], row['Cruzeiro'], row['Botafogo-RJ'], \n",
    "                                                                           row['Flamengo'], row['Fluminense'], row['Vasco'], row['Corinthians'], row['Palmeiras'], row['Santos'], row['São Paulo']), axis = 1)"
   ]
  },
  {
   "cell_type": "code",
   "execution_count": 21,
   "id": "2c18d52b",
   "metadata": {},
   "outputs": [
    {
     "data": {
      "text/plain": [
       "2 clubes                 96\n",
       "Outros                   94\n",
       "Palmeiras                78\n",
       "Flamengo                 74\n",
       "Corinthians              70\n",
       "São Paulo                53\n",
       "Confusos                 50\n",
       "Grêmio                   37\n",
       "Inter                    34\n",
       "Fluminense               33\n",
       "Atlético-MG              32\n",
       "Vasco                    28\n",
       "Cruzeiro                 25\n",
       "Nenhum                   20\n",
       "Santos                   18\n",
       "Botafogo-RJ              15\n",
       "Athletico-PR             14\n",
       "Solte a minha família     1\n",
       "Goran Pandev              1\n",
       "Name: Torcedor Único, dtype: int64"
      ]
     },
     "execution_count": 21,
     "metadata": {},
     "output_type": "execute_result"
    }
   ],
   "source": [
    "# Esse é o script mais importante de todos, pois ele é uma peça essencial da grande maioria dos gráficos finais.\n",
    "# Ele define 4 grupos de torcedores.\n",
    "# O primeiro grupo torce pra um dos 13 membros do clube dos 13, e não torce pra nenhum segundo clube Brasileiro.\n",
    "# O segundo grupo torce pra 2 clubes Brasileiros.\n",
    "# O terceiro grupo torce pra apenas um clube Brasileiro que não faz parte do clube dos 13.\n",
    "# O quarto grupo não torce pra nenhum clube.\n",
    "# A denominação \"Confusos\" foi criada pois muitos usuários responderam que não torcem pra um segundo clube, mas escolheram um segundo clube na lista, ou vice versa.\n",
    "\n",
    "\n",
    "ClubesEstrangeiros = list(['River Plate', 'Boca Juniors', 'Bayern Munchen', 'Notingham forest', 'Liverpool', 'Montreal FC', 'Tottenham?', 'man. united', 'Porto', 'FC Porto', 'independiente de avellaneda, defensores de belgrano', 'Everton', 'Everton '])\n",
    "\n",
    "\n",
    "def TorcedorÚnico(x, y, z):\n",
    "    if x != 'Não há' and x == x and x != y and x != 'num torço não po' and z == 'Sim' and x != 'Não há. A ideia de que o 1º clube seja o mais próximo contradiz as pesquisas sobre o assunto, na maioria das vezes é o contrário.' and x != 'Torço pelo desenvolvimento dos clubes paraenses pra que eles voltem a figurar na primeira divisão novamente, apenas' and x not in ClubesEstrangeiros and y not in ClubesEstrangeiros:\n",
    "        return '2 clubes'\n",
    "    elif x == y:\n",
    "        return x\n",
    "    elif x != 'Não há' and x == x and z != 'Sim' and x not in ClubesEstrangeiros and y not in ClubesEstrangeiros:\n",
    "        return 'Confusos'\n",
    "    elif x == 'Não há' and z == 'Sim':\n",
    "        return 'Confusos'\n",
    "    elif x != x and z == 'Sim':\n",
    "        return 'Confusos'\n",
    "    elif z == 'Sim' and x in ClubesEstrangeiros:\n",
    "        return 'Confusos'\n",
    "    elif z == 'Sim' and y in ClubesEstrangeiros:\n",
    "        return 'Confusos'\n",
    "    elif y in grandes and y != 'Coritiba' and z != 'Sim':\n",
    "        return y\n",
    "    elif y == 'Porto' or y == 'FC Porto' or y == 'independiente de avellaneda, defensores de belgrano' or y == 'Everton' or y == 'Everton ' or x == 'River Plate':\n",
    "        return x\n",
    "    elif x == 'Tottenham Hotspur' or x == 'Manchester United' or x == 'Real Madrid':\n",
    "        return y\n",
    "    elif y != 'Nenhum' and y != 'Marte FC' and y != 'Merda rala fc':\n",
    "        return 'Outros'\n",
    "    elif y == 'Nenhum':\n",
    "        return 'Nenhum'\n",
    "    \n",
    "    \n",
    "df['Torcedor Único'] = df.apply(lambda row: TorcedorÚnico(row['Qual é o segundo clube (aquele que fica geograficamente mais longe de você) pro qual você torce?'], \n",
    "                                                          row['Clube'], \n",
    "                                                          row['Você se considera torcedor de dois clubes brasileiros?']), axis = 1)\n",
    "df['Torcedor Único'].value_counts()"
   ]
  },
  {
   "cell_type": "code",
   "execution_count": 22,
   "id": "f26ca47e",
   "metadata": {},
   "outputs": [
    {
     "data": {
      "text/plain": [
       "0.0    365\n",
       "1.0    362\n",
       "Name: Subreddit, dtype: int64"
      ]
     },
     "execution_count": 22,
     "metadata": {},
     "output_type": "execute_result"
    }
   ],
   "source": [
    "# Esse script consiste de uma classificação numérica que indica se o usuário participa ou não do subreddit do seu clube.\n",
    "# A classificação numérica acabou não sendo usada nos gráficos finais, mas sim a classificação categórica original.\n",
    "\n",
    "\n",
    "def Subreddit(x):\n",
    "    try:\n",
    "        if x == 'Não':\n",
    "            return 0\n",
    "        elif x == 'Queria, mas não é ativo':\n",
    "            return 0\n",
    "        elif x == 'Sim, mas raramento crio threads ou escrevo comentários':\n",
    "            return 1\n",
    "        elif x == 'Sim, e crio threads e/ou escrevo comentários seguidamente':\n",
    "            return 1\n",
    "    except Exception as e:\n",
    "        return 'error'\n",
    "    \n",
    "    \n",
    "df['Subreddit'] = df['Você frequenta o subreddit do seu clube?'].apply(lambda row: Subreddit(row))\n",
    "df['Subreddit'].value_counts()"
   ]
  },
  {
   "cell_type": "code",
   "execution_count": 23,
   "id": "5f028032",
   "metadata": {},
   "outputs": [
    {
     "data": {
      "text/plain": [
       "1.5000    214\n",
       "0.7500    133\n",
       "2.5000    122\n",
       "3.5000     83\n",
       "0.2917     65\n",
       "0.0417     46\n",
       "5.5000     39\n",
       "4.5000     34\n",
       "1.9583      1\n",
       "Name: Idade No Sub, dtype: int64"
      ]
     },
     "execution_count": 23,
     "metadata": {},
     "output_type": "execute_result"
    }
   ],
   "source": [
    "# Esse script determina quanto tempo de r/futebol o usuário tem, em média.\n",
    "\n",
    "\n",
    "def IdadeNoSub(x):\n",
    "    try:\n",
    "        if x == 'Há 1 mês ou menos':\n",
    "            return 0.0417\n",
    "        elif x == 'Há menos de 6 meses, mas já acompanhava desde antes da Copa':\n",
    "            return 0.2917\n",
    "        elif x == 'Entre 6 meses e 1 ano':\n",
    "            return .75\n",
    "        elif x == 'Entre 1 e 2 anos':\n",
    "            return 1.5\n",
    "        elif x == 'Quase 2 anos (23 meses)':\n",
    "            return 1.9583\n",
    "        elif x == 'Entre 2 e 3 anos':\n",
    "            return 2.5\n",
    "        elif x == 'Entre 3 e 4 anos':\n",
    "            return 3.5\n",
    "        elif x == 'Entre 4 e 5 anos':\n",
    "            return 4.5\n",
    "        elif x == 'Mais de 5 anos':\n",
    "            return 5.5\n",
    "    except Exception as e:\n",
    "        return 'error'\n",
    "    \n",
    "    \n",
    "df['Idade No Sub'] = df['Há quanto tempo você acompanha o /r/futebol?'].apply(lambda row: IdadeNoSub(row))\n",
    "df['Idade No Sub'].value_counts()"
   ]
  },
  {
   "cell_type": "code",
   "execution_count": 24,
   "id": "6626f622",
   "metadata": {},
   "outputs": [],
   "source": [
    "# Esse script serve pra ver quantos usuários torcem pra dois clubes rivais.\n",
    "# Apesar de vermos vários desses exemplos como flair duplas no sub, dos 738 participantes do censo só houve 1 desses casos, portanto não fará parte dos gráficos finais.\n",
    "\n",
    "\n",
    "def Cursed(x, y):\n",
    "    try:\n",
    "        if x == 'Grêmio' and y == 'Inter':\n",
    "            return True\n",
    "        elif x == 'Inter' and y == 'Grêmio':\n",
    "            return True\n",
    "        elif x == 'Cruzeiro' and y == 'Atlético-MG':\n",
    "            return True\n",
    "        elif x == 'Atlético-MG' and y == 'Cruzeiro':\n",
    "            return True\n",
    "        elif x == 'Palmeiras' and y == 'Corinthians':\n",
    "            return True\n",
    "        elif x == 'Corinthians' and y == 'Palmeiras':\n",
    "            return True\n",
    "        elif x == 'Vasco' and y == 'Flamengo':\n",
    "            return True\n",
    "        elif x == 'Flamengo' and y == 'Vasco':\n",
    "            return True\n",
    "        elif x == 'Fluminense' and y == 'Flamengo':\n",
    "            return True\n",
    "        elif x == 'Flamengo' and y == 'Fluminense':\n",
    "            return True\n",
    "        else:\n",
    "            return False\n",
    "    except Exception as e:\n",
    "        return False\n",
    "    \n",
    "    \n",
    "df['Cursed'] = df.apply(lambda row: Cursed(row['Clube'], \n",
    "                                           row['Qual é o segundo clube (aquele que fica geograficamente mais longe de você) pro qual você torce?']), axis = 1)"
   ]
  },
  {
   "cell_type": "code",
   "execution_count": 25,
   "id": "821822ab",
   "metadata": {
    "scrolled": true
   },
   "outputs": [],
   "source": [
    "# Esse script exclui as respostas troll e as respostas em branco.\n",
    "\n",
    "\n",
    "df['Exclusion'] = False\n",
    "\n",
    "mask = df[(df['Se você não nasceu no Brasil, escreva o nome do país onde você nasceu, ou em Português ou em Inglês.']) == (df['Com qual gênero você se identifica?'])].index\n",
    "df.loc[mask, 'Exclusion'] = True\n",
    "\n",
    "mask = df[df['Se você não nasceu no Brasil, escreva o nome do país onde você nasceu, ou em Português ou em Inglês.'] == 'Pensa'].index\n",
    "df.loc[mask, 'Exclusion'] = True\n",
    "\n",
    "mask = df[df['Se você não nasceu no Brasil, escreva o nome do país onde você nasceu, ou em Português ou em Inglês.'] == 'Uzbequistão'].index\n",
    "df.loc[mask, 'Exclusion'] = True\n",
    "\n",
    "mask = df[df['Se você não nasceu no Brasil, escreva o nome do país onde você nasceu, ou em Português ou em Inglês.'] == 'Marte'].index\n",
    "df.loc[mask, 'Exclusion'] = True\n",
    "\n",
    "mask = df[df['Se você não nasceu no Brasil, escreva o nome do país onde você nasceu, ou em Português ou em Inglês.'] == 'Solte a minha família'].index\n",
    "df.loc[mask, 'Exclusion'] = True\n",
    "\n",
    "mask = df[df['Onde você mora atualmente?'] == 'safada'].index\n",
    "df.loc[mask, 'Exclusion'] = True\n",
    "\n",
    "mask = df[(df['Onde você nasceu?'].isna()) & (df['Com qual gênero você se identifica?'].isna())].index\n",
    "df.loc[mask, 'Exclusion'] = True\n",
    "\n",
    "df2 = df[df['Exclusion'] == False]"
   ]
  },
  {
   "cell_type": "code",
   "execution_count": 26,
   "id": "337b742a",
   "metadata": {},
   "outputs": [
    {
     "data": {
      "text/plain": [
       "2.4853297791457423"
      ]
     },
     "execution_count": 26,
     "metadata": {},
     "output_type": "execute_result"
    }
   ],
   "source": [
    "# Esse script só serve pra testar o desvio padrão do Tableau.\n",
    "\n",
    "\n",
    "def Estádiooo(x):\n",
    "    try:\n",
    "        if str(x) == 0:\n",
    "            return 0\n",
    "        elif x == 0:\n",
    "            return 0\n",
    "        elif x == '1 ou 2':\n",
    "            return 1.5\n",
    "        elif x == '3 ou 4':\n",
    "            return 3.5\n",
    "        elif x == '5 ou 6':\n",
    "            return 5.5\n",
    "        elif x == '7 ou 8':\n",
    "            return 7.5\n",
    "        elif x == '9 ou mais':\n",
    "            return 9.5\n",
    "        elif x == 'Todas do Palmeiras em casa menos duas, dá mais de 30':\n",
    "            return 9.5\n",
    "        else:\n",
    "            return None\n",
    "    except Exception as e:\n",
    "        return None\n",
    "\n",
    "    \n",
    "dftemp = df.copy()\n",
    "dftemp['Estádiooo'] = df['Você assistiu a quantas partidas no estádio em 2022?'].apply(lambda row: Estádiooo(row))\n",
    "dftemp['Estádiooo'].dropna().std()"
   ]
  },
  {
   "cell_type": "code",
   "execution_count": 27,
   "id": "c0c8bdc9",
   "metadata": {},
   "outputs": [],
   "source": [
    "# Esse script cria várias tabelas pra tornar mais fácil os diversos cálculos abaixo que servem pra calcular as médias usadas nas linhas de referência e no texto do PowerPoint.\n",
    "\n",
    "dfcalc1 = df2[(df2['Há quanto tempo você acompanha o /r/futebol?'] != 'Há 1 mês ou menos') & (df2['Torcedor Único'] != 'Confusos')].copy()\n",
    "dfcalc2 = df2[(df2['Há quanto tempo você acompanha o /r/futebol?'] != 'Há 1 mês ou menos') & (df2['Torcedor Único'] != 'Confusos') & (df2['Torcedor Único'] != '2 clubes') & (df2['Torcedor Único'] != 'Nenhum')].copy()\n",
    "dfcalc3 = df2[(df2['Há quanto tempo você acompanha o /r/futebol?'] != 'Há 1 mês ou menos') & (df2['Torcedor Único'] != 'Confusos') & (df2['Torcedor Único'] != '2 clubes') & (df2['Torcedor Único'] != 'Nenhum') & (df2['Torcedor Único'] != 'Outros')].copy()"
   ]
  },
  {
   "cell_type": "code",
   "execution_count": 28,
   "id": "1b89f50a",
   "metadata": {},
   "outputs": [
    {
     "data": {
      "text/plain": [
       "7.951173708920186"
      ]
     },
     "execution_count": 28,
     "metadata": {},
     "output_type": "execute_result"
    }
   ],
   "source": [
    "dfcalc1['Paixão'].mean()"
   ]
  },
  {
   "cell_type": "code",
   "execution_count": 29,
   "id": "712bc844",
   "metadata": {},
   "outputs": [
    {
     "data": {
      "text/plain": [
       "0.0625"
      ]
     },
     "execution_count": 29,
     "metadata": {},
     "output_type": "execute_result"
    }
   ],
   "source": [
    "len(df2[df2['Há quanto tempo você acompanha o /r/futebol?'] == 'Há 1 mês ou menos'])/len(df2)"
   ]
  },
  {
   "cell_type": "code",
   "execution_count": 30,
   "id": "e2196b7a",
   "metadata": {},
   "outputs": [
    {
     "data": {
      "text/plain": [
       "2.4927698587127156"
      ]
     },
     "execution_count": 30,
     "metadata": {},
     "output_type": "execute_result"
    }
   ],
   "source": [
    "dfcalc1['Assistir'].mean()"
   ]
  },
  {
   "cell_type": "code",
   "execution_count": 31,
   "id": "a8bd6136",
   "metadata": {},
   "outputs": [
    {
     "data": {
      "text/plain": [
       "1.4068857589984352"
      ]
     },
     "execution_count": 31,
     "metadata": {},
     "output_type": "execute_result"
    }
   ],
   "source": [
    "dfcalc1['Estádio'].mean()"
   ]
  },
  {
   "cell_type": "code",
   "execution_count": 32,
   "id": "77078b6f",
   "metadata": {},
   "outputs": [
    {
     "data": {
      "text/plain": [
       "0.22708333333333333"
      ]
     },
     "execution_count": 32,
     "metadata": {},
     "output_type": "execute_result"
    }
   ],
   "source": [
    "dfcalc3['Interestadual'].mean()"
   ]
  },
  {
   "cell_type": "code",
   "execution_count": 33,
   "id": "b7359f1f",
   "metadata": {},
   "outputs": [
    {
     "data": {
      "text/plain": [
       "0.5954356846473029"
      ]
     },
     "execution_count": 33,
     "metadata": {},
     "output_type": "execute_result"
    }
   ],
   "source": [
    "dfcalc3['Subreddit'].mean()"
   ]
  },
  {
   "cell_type": "code",
   "execution_count": 49,
   "id": "38b732fd",
   "metadata": {},
   "outputs": [
    {
     "data": {
      "text/plain": [
       "0.13819875776397517"
      ]
     },
     "execution_count": 49,
     "metadata": {},
     "output_type": "execute_result"
    }
   ],
   "source": [
    "len(dfcalc1[dfcalc1['Você se considera torcedor de dois clubes brasileiros?'] == 'Sim'])/len(dfcalc1)"
   ]
  },
  {
   "cell_type": "code",
   "execution_count": 34,
   "id": "4b633fde",
   "metadata": {},
   "outputs": [
    {
     "name": "stderr",
     "output_type": "stream",
     "text": [
      "c:\\datascience\\python377\\lib\\site-packages\\ipykernel_launcher.py:1: UserWarning: Boolean Series key will be reindexed to match DataFrame index.\n",
      "  \"\"\"Entry point for launching an IPython kernel.\n"
     ]
    },
    {
     "data": {
      "text/plain": [
       "269"
      ]
     },
     "metadata": {},
     "output_type": "display_data"
    },
    {
     "data": {
      "text/plain": [
       "0.5037453183520599"
      ]
     },
     "metadata": {},
     "output_type": "display_data"
    }
   ],
   "source": [
    "dfcalc2temp = dfcalc2[(dfcalc2['Você se considera torcedor de dois clubes brasileiros?'] == 'Não, e nem tenho opinião sobre esse assunto') | (df2['Você se considera torcedor de dois clubes brasileiros?'] == 'Não, mas respeito quem seja') | (df2['Você se considera torcedor de dois clubes brasileiros?'] == 'Não, e acho isso um absurdo')].copy()\n",
    "\n",
    "display(len(dfcalc2temp[dfcalc2temp['Você se considera torcedor de dois clubes brasileiros?'] == 'Não, mas respeito quem seja']))\n",
    "display(len(dfcalc2temp[dfcalc2temp['Você se considera torcedor de dois clubes brasileiros?'] == 'Não, mas respeito quem seja'])/len(dfcalc2temp))"
   ]
  },
  {
   "cell_type": "code",
   "execution_count": 35,
   "id": "039675d6",
   "metadata": {},
   "outputs": [
    {
     "data": {
      "text/plain": [
       "123"
      ]
     },
     "metadata": {},
     "output_type": "display_data"
    },
    {
     "data": {
      "text/plain": [
       "0.2303370786516854"
      ]
     },
     "metadata": {},
     "output_type": "display_data"
    }
   ],
   "source": [
    "display(len(dfcalc2temp[dfcalc2temp['Você se considera torcedor de dois clubes brasileiros?'] == 'Não, e acho isso um absurdo']))\n",
    "display(len(dfcalc2temp[dfcalc2temp['Você se considera torcedor de dois clubes brasileiros?'] == 'Não, e acho isso um absurdo'])/len(dfcalc2temp))"
   ]
  },
  {
   "cell_type": "code",
   "execution_count": 36,
   "id": "759935ed",
   "metadata": {},
   "outputs": [
    {
     "data": {
      "text/plain": [
       "440"
      ]
     },
     "metadata": {},
     "output_type": "display_data"
    },
    {
     "data": {
      "text/plain": [
       "0.6832298136645962"
      ]
     },
     "metadata": {},
     "output_type": "display_data"
    }
   ],
   "source": [
    "display(len(dfcalc1[dfcalc1['Qual é sua cor ou raça?'] == 'Branco']))\n",
    "display(len(dfcalc1[dfcalc1['Qual é sua cor ou raça?'] == 'Branco'])/len(dfcalc1))"
   ]
  },
  {
   "cell_type": "code",
   "execution_count": 37,
   "id": "90e545c7",
   "metadata": {},
   "outputs": [
    {
     "data": {
      "text/plain": [
       "38"
      ]
     },
     "metadata": {},
     "output_type": "display_data"
    },
    {
     "data": {
      "text/plain": [
       "0.051630434782608696"
      ]
     },
     "metadata": {},
     "output_type": "display_data"
    }
   ],
   "source": [
    "display(len(df2[df2['Há quanto tempo você acompanha o /r/futebol?'] == 'Mais de 5 anos']))\n",
    "display(len(df2[df2['Há quanto tempo você acompanha o /r/futebol?'] == 'Mais de 5 anos'])/len(df2))"
   ]
  },
  {
   "cell_type": "code",
   "execution_count": 38,
   "id": "ab0fcd7f",
   "metadata": {
    "scrolled": true
   },
   "outputs": [
    {
     "name": "stderr",
     "output_type": "stream",
     "text": [
      "c:\\datascience\\python377\\lib\\site-packages\\ipykernel_launcher.py:1: UserWarning: Boolean Series key will be reindexed to match DataFrame index.\n",
      "  \"\"\"Entry point for launching an IPython kernel.\n"
     ]
    },
    {
     "data": {
      "text/plain": [
       "322"
      ]
     },
     "metadata": {},
     "output_type": "display_data"
    },
    {
     "name": "stderr",
     "output_type": "stream",
     "text": [
      "c:\\datascience\\python377\\lib\\site-packages\\ipykernel_launcher.py:2: UserWarning: Boolean Series key will be reindexed to match DataFrame index.\n",
      "  \n"
     ]
    },
    {
     "data": {
      "text/plain": [
       "0.5"
      ]
     },
     "metadata": {},
     "output_type": "display_data"
    }
   ],
   "source": [
    "display(len(dfcalc1[((dfcalc1['Como você acha que devem mudar os estaduais? (Tente selecionar a opção mais próxima da sua ideia)'] == 'Clubes grandes não devem participar, apenas os menores') | (df2['Como você acha que devem mudar os estaduais? (Tente selecionar a opção mais próxima da sua ideia)'] == 'Estadual tem que acabar') | (df2['Como você acha que devem mudar os estaduais? (Tente selecionar a opção mais próxima da sua ideia)'] == 'Clubes grandes devem entrar direto nas quartas ou nas semi finais'))]))\n",
    "display(len(dfcalc1[((dfcalc1['Como você acha que devem mudar os estaduais? (Tente selecionar a opção mais próxima da sua ideia)'] == 'Clubes grandes não devem participar, apenas os menores') | (df2['Como você acha que devem mudar os estaduais? (Tente selecionar a opção mais próxima da sua ideia)'] == 'Estadual tem que acabar') | (df2['Como você acha que devem mudar os estaduais? (Tente selecionar a opção mais próxima da sua ideia)'] == 'Clubes grandes devem entrar direto nas quartas ou nas semi finais'))])/len(dfcalc1))"
   ]
  },
  {
   "cell_type": "code",
   "execution_count": 39,
   "id": "2c5340a4",
   "metadata": {},
   "outputs": [
    {
     "data": {
      "text/plain": [
       "707"
      ]
     },
     "execution_count": 39,
     "metadata": {},
     "output_type": "execute_result"
    }
   ],
   "source": [
    "# Essa parte final do código serve pra conferir os dados limpos com relação às perguntas sobre times simpáticos e antipáticos.\n",
    "\n",
    "#len(df2[df2['Simpáticos'] != 'Problema']['Simpáticos'].dropna())\n",
    "df2[df2['Simpáticos'] != 'Problema']['Simpáticos'].dropna().value_counts().head(90).sum()"
   ]
  },
  {
   "cell_type": "code",
   "execution_count": 40,
   "id": "6fae989e",
   "metadata": {},
   "outputs": [
    {
     "data": {
      "text/plain": [
       "686"
      ]
     },
     "execution_count": 40,
     "metadata": {},
     "output_type": "execute_result"
    }
   ],
   "source": [
    "len(df2[df2['Antipáticos'] != 'Problema']['Antipáticos'].dropna())\n",
    "#df2[df2['Antipáticos'] != 'Problema']['Antipáticos'].dropna().value_counts().head(90).sum()"
   ]
  },
  {
   "cell_type": "code",
   "execution_count": 41,
   "id": "e54013d7",
   "metadata": {
    "scrolled": true
   },
   "outputs": [
    {
     "data": {
      "text/plain": [
       "Nenhum, torço pro meu clube e os outros que se danem                212\n",
       "Vasco                                                                70\n",
       "Fortaleza                                                            44\n",
       "América-MG                                                           33\n",
       "Corinthians                                                          26\n",
       "Palmeiras                                                            24\n",
       "Santos                                                               23\n",
       "Cruzeiro                                                             21\n",
       "Portuguesa                                                           19\n",
       "Bahia                                                                19\n",
       "Chape                                                                16\n",
       "Botafogo-RJ                                                          13\n",
       "Inter                                                                13\n",
       "São Paulo                                                            13\n",
       "Juventude                                                            10\n",
       "Fluminense                                                            9\n",
       "Grêmio                                                                8\n",
       "Athletico-PR                                                          8\n",
       "Flamengo                                                              7\n",
       "Cuiabá                                                                6\n",
       "Sampaio Corrêa                                                        6\n",
       "Ceará                                                                 5\n",
       "Atlético-MG                                                           5\n",
       "Guarani                                                               5\n",
       "Sport                                                                 4\n",
       "Avaí                                                                  4\n",
       "Ponte Preta                                                           4\n",
       "Bragantino                                                            4\n",
       "Goiás                                                                 3\n",
       "Paysandu                                                              3\n",
       "Coritiba                                                              3\n",
       "Botafogo-SP                                                           3\n",
       "Atlético-GO                                                           2\n",
       "Brasiliense                                                           2\n",
       "Criciúma                                                              2\n",
       "Figueirense                                                           2\n",
       "Portuguesa - RJ                                                       2\n",
       "Manaus                                                                2\n",
       "Londrina                                                              2\n",
       "CSA                                                                   2\n",
       "Vitória                                                               2\n",
       "Napoli                                                                1\n",
       "Santo André                                                           1\n",
       "Chelsea                                                               1\n",
       "Simpatizo com vários clubes de fora do G12                            1\n",
       "Remo                                                                  1\n",
       "Chape e a maioria dos clubes do nordeste                              1\n",
       "Foz do Iguaçu                                                         1\n",
       "Paraná                                                                1\n",
       "Arsenal                                                               1\n",
       "caldense                                                              1\n",
       "Icasa                                                                 1\n",
       "Os times de SC                                                        1\n",
       "Botafogo-RJ, Sousa-PB                                                 1\n",
       "Portuguesa Santista, Jabaquara Atlético Clube, Juventus da Mooca      1\n",
       "Ypiranga RS                                                           1\n",
       "Barcelona                                                             1\n",
       "São Caetano                                                           1\n",
       "Ferroviário                                                           1\n",
       "Portland Timbers                                                      1\n",
       "Não tenho time                                                        1\n",
       "América-RJ                                                            1\n",
       "Marília                                                               1\n",
       "ABC                                                                   1\n",
       "Santo André                                                           1\n",
       "Tuna Luso                                                             1\n",
       "Marcílio Dias                                                         1\n",
       "Santa Cruz                                                            1\n",
       "USAC (União Suzano)                                                   1\n",
       "Botafogo-PB                                                           1\n",
       "América-RN                                                            1\n",
       "Grêmio Prudente                                                       1\n",
       "Vila nova/Barcelona                                                   1\n",
       "Eu simpatizo com quem meu rival esteja jogando contra                 1\n",
       "Porto/Portugal                                                        1\n",
       "Sao Jose RS                                                           1\n",
       "Desportiva-ES                                                         1\n",
       "Frankfurt                                                             1\n",
       "Goytacaz                                                              1\n",
       "Goytacaz e Americano                                                  1\n",
       "Rio Branco-ES                                                         1\n",
       "Náutico                                                               1\n",
       "Time da minha cidade                                                  1\n",
       "Aston Villa                                                           1\n",
       "Taubaté                                                               1\n",
       "santo andré                                                           1\n",
       "Juventus Mooca                                                        1\n",
       "Name: Simpáticos, dtype: int64"
      ]
     },
     "execution_count": 41,
     "metadata": {},
     "output_type": "execute_result"
    }
   ],
   "source": [
    "df2[df2['Simpáticos'] != 'Problema']['Simpáticos'].value_counts()"
   ]
  },
  {
   "cell_type": "code",
   "execution_count": 42,
   "id": "e7324aa1",
   "metadata": {
    "scrolled": true
   },
   "outputs": [
    {
     "data": {
      "text/plain": [
       "Flamengo                                                            275\n",
       "Apenas quero o mal pro(s) meu(s) rival(is)                          133\n",
       "Palmeiras                                                            52\n",
       "Corinthians                                                          50\n",
       "Não quero o mal pra ninguém                                          42\n",
       "Problema                                                             38\n",
       "Atlético-MG                                                          31\n",
       "Athletico-PR                                                         21\n",
       "Inter                                                                14\n",
       "Cruzeiro                                                              8\n",
       "São Paulo                                                             8\n",
       "Grêmio                                                                7\n",
       "Vasco                                                                 5\n",
       "Sport                                                                 5\n",
       "Bragantino                                                            4\n",
       "CSA                                                                   2\n",
       "Ceará                                                                 2\n",
       "Fluminense                                                            2\n",
       "Vasco, Fluminense, Botafogo.                                          1\n",
       "Paulista (Jundiaí)                                                    1\n",
       "Flamengo, Corinthians e seja lá qual é o melhor clube do momento      1\n",
       "Torço contra os grandes                                               1\n",
       "Paysandu                                                              1\n",
       "Atlético-GO                                                           1\n",
       "Quem tiver ganhando.                                                  1\n",
       "todos                                                                 1\n",
       "Bahia                                                                 1\n",
       "Figueirense                                                           1\n",
       "Rival ou quem tiver mais titulos que o Flamengo na competição         1\n",
       "PSG                                                                   1\n",
       "Sport, Santa Cruz, Avaí, CSA, Sampaio Corrêa, Ponte preta             1\n",
       "Avaí                                                                  1\n",
       "Todos que não sejam o meu time                                        1\n",
       "Náutico                                                               1\n",
       "Aquele que tiver o maior potencial de atrapalhar o meu time           1\n",
       "No momento O atletico-Mg só para ver a cruzeirada 2 o retorno.        1\n",
       "Fora o Inter quero que todos se fodam                                 1\n",
       "Todos com exceção do Corinthians                                      1\n",
       "Inter e Flamengo, os dois tem que ir pro inferno                      1\n",
       "Botafogo-RJ                                                           1\n",
       "Fortaleza                                                             1\n",
       "Barcelona                                                             1\n",
       "Vitória                                                               1\n",
       "Name: Antipáticos, dtype: int64"
      ]
     },
     "execution_count": 42,
     "metadata": {},
     "output_type": "execute_result"
    }
   ],
   "source": [
    "df2['Antipáticos'].value_counts()"
   ]
  },
  {
   "cell_type": "code",
   "execution_count": 43,
   "id": "8d166a3e",
   "metadata": {},
   "outputs": [
    {
     "data": {
      "text/html": [
       "<div>\n",
       "<style scoped>\n",
       "    .dataframe tbody tr th:only-of-type {\n",
       "        vertical-align: middle;\n",
       "    }\n",
       "\n",
       "    .dataframe tbody tr th {\n",
       "        vertical-align: top;\n",
       "    }\n",
       "\n",
       "    .dataframe thead th {\n",
       "        text-align: right;\n",
       "    }\n",
       "</style>\n",
       "<table border=\"1\" class=\"dataframe\">\n",
       "  <thead>\n",
       "    <tr style=\"text-align: right;\">\n",
       "      <th></th>\n",
       "      <th>index</th>\n",
       "      <th>Clube</th>\n",
       "      <th>Qual é o segundo clube (aquele que fica geograficamente mais longe de você) pro qual você torce?</th>\n",
       "      <th>Total2Clubes</th>\n",
       "    </tr>\n",
       "  </thead>\n",
       "  <tbody>\n",
       "    <tr>\n",
       "      <th>1</th>\n",
       "      <td>Flamengo</td>\n",
       "      <td>11.0</td>\n",
       "      <td>13.0</td>\n",
       "      <td>24.0</td>\n",
       "    </tr>\n",
       "    <tr>\n",
       "      <th>0</th>\n",
       "      <td>Corinthians</td>\n",
       "      <td>11.0</td>\n",
       "      <td>6.0</td>\n",
       "      <td>17.0</td>\n",
       "    </tr>\n",
       "    <tr>\n",
       "      <th>2</th>\n",
       "      <td>Palmeiras</td>\n",
       "      <td>7.0</td>\n",
       "      <td>7.0</td>\n",
       "      <td>14.0</td>\n",
       "    </tr>\n",
       "    <tr>\n",
       "      <th>4</th>\n",
       "      <td>São Paulo</td>\n",
       "      <td>5.0</td>\n",
       "      <td>9.0</td>\n",
       "      <td>14.0</td>\n",
       "    </tr>\n",
       "    <tr>\n",
       "      <th>7</th>\n",
       "      <td>Vasco</td>\n",
       "      <td>3.0</td>\n",
       "      <td>6.0</td>\n",
       "      <td>9.0</td>\n",
       "    </tr>\n",
       "    <tr>\n",
       "      <th>3</th>\n",
       "      <td>Grêmio</td>\n",
       "      <td>6.0</td>\n",
       "      <td>2.0</td>\n",
       "      <td>8.0</td>\n",
       "    </tr>\n",
       "    <tr>\n",
       "      <th>42</th>\n",
       "      <td>Santos</td>\n",
       "      <td>1.0</td>\n",
       "      <td>6.0</td>\n",
       "      <td>7.0</td>\n",
       "    </tr>\n",
       "    <tr>\n",
       "      <th>20</th>\n",
       "      <td>Fluminense</td>\n",
       "      <td>1.0</td>\n",
       "      <td>4.0</td>\n",
       "      <td>5.0</td>\n",
       "    </tr>\n",
       "    <tr>\n",
       "      <th>5</th>\n",
       "      <td>Sampaio Corrêa</td>\n",
       "      <td>4.0</td>\n",
       "      <td>0.0</td>\n",
       "      <td>4.0</td>\n",
       "    </tr>\n",
       "    <tr>\n",
       "      <th>6</th>\n",
       "      <td>Bahia</td>\n",
       "      <td>3.0</td>\n",
       "      <td>1.0</td>\n",
       "      <td>4.0</td>\n",
       "    </tr>\n",
       "    <tr>\n",
       "      <th>15</th>\n",
       "      <td>Botafogo-RJ</td>\n",
       "      <td>2.0</td>\n",
       "      <td>1.0</td>\n",
       "      <td>3.0</td>\n",
       "    </tr>\n",
       "    <tr>\n",
       "      <th>45</th>\n",
       "      <td>Portuguesa</td>\n",
       "      <td>0.0</td>\n",
       "      <td>3.0</td>\n",
       "      <td>3.0</td>\n",
       "    </tr>\n",
       "    <tr>\n",
       "      <th>40</th>\n",
       "      <td>Atlético-MG</td>\n",
       "      <td>1.0</td>\n",
       "      <td>2.0</td>\n",
       "      <td>3.0</td>\n",
       "    </tr>\n",
       "    <tr>\n",
       "      <th>12</th>\n",
       "      <td>Fortaleza</td>\n",
       "      <td>2.0</td>\n",
       "      <td>1.0</td>\n",
       "      <td>3.0</td>\n",
       "    </tr>\n",
       "    <tr>\n",
       "      <th>8</th>\n",
       "      <td>Paraná</td>\n",
       "      <td>3.0</td>\n",
       "      <td>0.0</td>\n",
       "      <td>3.0</td>\n",
       "    </tr>\n",
       "    <tr>\n",
       "      <th>13</th>\n",
       "      <td>Botafogo-PB</td>\n",
       "      <td>2.0</td>\n",
       "      <td>0.0</td>\n",
       "      <td>2.0</td>\n",
       "    </tr>\n",
       "    <tr>\n",
       "      <th>28</th>\n",
       "      <td>Náutico</td>\n",
       "      <td>1.0</td>\n",
       "      <td>1.0</td>\n",
       "      <td>2.0</td>\n",
       "    </tr>\n",
       "    <tr>\n",
       "      <th>11</th>\n",
       "      <td>Cruzeiro</td>\n",
       "      <td>2.0</td>\n",
       "      <td>0.0</td>\n",
       "      <td>2.0</td>\n",
       "    </tr>\n",
       "    <tr>\n",
       "      <th>46</th>\n",
       "      <td>Athletico-PR</td>\n",
       "      <td>0.0</td>\n",
       "      <td>2.0</td>\n",
       "      <td>2.0</td>\n",
       "    </tr>\n",
       "    <tr>\n",
       "      <th>10</th>\n",
       "      <td>Goiás</td>\n",
       "      <td>2.0</td>\n",
       "      <td>0.0</td>\n",
       "      <td>2.0</td>\n",
       "    </tr>\n",
       "    <tr>\n",
       "      <th>9</th>\n",
       "      <td>América-RN</td>\n",
       "      <td>2.0</td>\n",
       "      <td>0.0</td>\n",
       "      <td>2.0</td>\n",
       "    </tr>\n",
       "    <tr>\n",
       "      <th>21</th>\n",
       "      <td>Volta Redonda</td>\n",
       "      <td>1.0</td>\n",
       "      <td>1.0</td>\n",
       "      <td>2.0</td>\n",
       "    </tr>\n",
       "    <tr>\n",
       "      <th>44</th>\n",
       "      <td>Avaí</td>\n",
       "      <td>1.0</td>\n",
       "      <td>1.0</td>\n",
       "      <td>2.0</td>\n",
       "    </tr>\n",
       "    <tr>\n",
       "      <th>24</th>\n",
       "      <td>Paysandu</td>\n",
       "      <td>1.0</td>\n",
       "      <td>1.0</td>\n",
       "      <td>2.0</td>\n",
       "    </tr>\n",
       "    <tr>\n",
       "      <th>39</th>\n",
       "      <td>Cuiabá</td>\n",
       "      <td>1.0</td>\n",
       "      <td>1.0</td>\n",
       "      <td>2.0</td>\n",
       "    </tr>\n",
       "    <tr>\n",
       "      <th>14</th>\n",
       "      <td>Coritiba</td>\n",
       "      <td>2.0</td>\n",
       "      <td>0.0</td>\n",
       "      <td>2.0</td>\n",
       "    </tr>\n",
       "    <tr>\n",
       "      <th>57</th>\n",
       "      <td>Treze FC</td>\n",
       "      <td>0.0</td>\n",
       "      <td>1.0</td>\n",
       "      <td>1.0</td>\n",
       "    </tr>\n",
       "    <tr>\n",
       "      <th>56</th>\n",
       "      <td>Penapolense</td>\n",
       "      <td>0.0</td>\n",
       "      <td>1.0</td>\n",
       "      <td>1.0</td>\n",
       "    </tr>\n",
       "    <tr>\n",
       "      <th>53</th>\n",
       "      <td>Pelotas</td>\n",
       "      <td>0.0</td>\n",
       "      <td>1.0</td>\n",
       "      <td>1.0</td>\n",
       "    </tr>\n",
       "    <tr>\n",
       "      <th>55</th>\n",
       "      <td>Flamengo (gostaria de deixar claro que torço para o Mengo desde antes de 2019)</td>\n",
       "      <td>0.0</td>\n",
       "      <td>1.0</td>\n",
       "      <td>1.0</td>\n",
       "    </tr>\n",
       "    <tr>\n",
       "      <th>54</th>\n",
       "      <td>Operário</td>\n",
       "      <td>0.0</td>\n",
       "      <td>1.0</td>\n",
       "      <td>1.0</td>\n",
       "    </tr>\n",
       "    <tr>\n",
       "      <th>59</th>\n",
       "      <td>Treze-FC, da Paraiba</td>\n",
       "      <td>0.0</td>\n",
       "      <td>1.0</td>\n",
       "      <td>1.0</td>\n",
       "    </tr>\n",
       "    <tr>\n",
       "      <th>52</th>\n",
       "      <td>Desportiva Ferroviária</td>\n",
       "      <td>0.0</td>\n",
       "      <td>1.0</td>\n",
       "      <td>1.0</td>\n",
       "    </tr>\n",
       "    <tr>\n",
       "      <th>58</th>\n",
       "      <td>Villa Nova MG</td>\n",
       "      <td>0.0</td>\n",
       "      <td>1.0</td>\n",
       "      <td>1.0</td>\n",
       "    </tr>\n",
       "    <tr>\n",
       "      <th>67</th>\n",
       "      <td>Da minha cidade</td>\n",
       "      <td>0.0</td>\n",
       "      <td>1.0</td>\n",
       "      <td>1.0</td>\n",
       "    </tr>\n",
       "    <tr>\n",
       "      <th>60</th>\n",
       "      <td>ABC de Natal</td>\n",
       "      <td>0.0</td>\n",
       "      <td>1.0</td>\n",
       "      <td>1.0</td>\n",
       "    </tr>\n",
       "    <tr>\n",
       "      <th>61</th>\n",
       "      <td>São Bento (Sorocaba)</td>\n",
       "      <td>0.0</td>\n",
       "      <td>1.0</td>\n",
       "      <td>1.0</td>\n",
       "    </tr>\n",
       "    <tr>\n",
       "      <th>62</th>\n",
       "      <td>Treze</td>\n",
       "      <td>0.0</td>\n",
       "      <td>1.0</td>\n",
       "      <td>1.0</td>\n",
       "    </tr>\n",
       "    <tr>\n",
       "      <th>63</th>\n",
       "      <td>Rio Branco-ES</td>\n",
       "      <td>0.0</td>\n",
       "      <td>1.0</td>\n",
       "      <td>1.0</td>\n",
       "    </tr>\n",
       "    <tr>\n",
       "      <th>64</th>\n",
       "      <td>Nova Iguaçu</td>\n",
       "      <td>0.0</td>\n",
       "      <td>1.0</td>\n",
       "      <td>1.0</td>\n",
       "    </tr>\n",
       "    <tr>\n",
       "      <th>65</th>\n",
       "      <td>Criciúma</td>\n",
       "      <td>0.0</td>\n",
       "      <td>1.0</td>\n",
       "      <td>1.0</td>\n",
       "    </tr>\n",
       "    <tr>\n",
       "      <th>66</th>\n",
       "      <td>Bangu</td>\n",
       "      <td>0.0</td>\n",
       "      <td>1.0</td>\n",
       "      <td>1.0</td>\n",
       "    </tr>\n",
       "    <tr>\n",
       "      <th>50</th>\n",
       "      <td>Ypiranga de Erechim</td>\n",
       "      <td>0.0</td>\n",
       "      <td>1.0</td>\n",
       "      <td>1.0</td>\n",
       "    </tr>\n",
       "    <tr>\n",
       "      <th>68</th>\n",
       "      <td>Paulista de Jundiaí</td>\n",
       "      <td>0.0</td>\n",
       "      <td>1.0</td>\n",
       "      <td>1.0</td>\n",
       "    </tr>\n",
       "    <tr>\n",
       "      <th>69</th>\n",
       "      <td>Londrina</td>\n",
       "      <td>0.0</td>\n",
       "      <td>1.0</td>\n",
       "      <td>1.0</td>\n",
       "    </tr>\n",
       "    <tr>\n",
       "      <th>70</th>\n",
       "      <td>Campo Grande</td>\n",
       "      <td>0.0</td>\n",
       "      <td>1.0</td>\n",
       "      <td>1.0</td>\n",
       "    </tr>\n",
       "    <tr>\n",
       "      <th>71</th>\n",
       "      <td>Esportivo - Bento Gonçalves</td>\n",
       "      <td>0.0</td>\n",
       "      <td>1.0</td>\n",
       "      <td>1.0</td>\n",
       "    </tr>\n",
       "    <tr>\n",
       "      <th>72</th>\n",
       "      <td>Taubaté</td>\n",
       "      <td>0.0</td>\n",
       "      <td>1.0</td>\n",
       "      <td>1.0</td>\n",
       "    </tr>\n",
       "    <tr>\n",
       "      <th>73</th>\n",
       "      <td>Portuguesa Santista</td>\n",
       "      <td>0.0</td>\n",
       "      <td>1.0</td>\n",
       "      <td>1.0</td>\n",
       "    </tr>\n",
       "    <tr>\n",
       "      <th>51</th>\n",
       "      <td>Juventus (SP)</td>\n",
       "      <td>0.0</td>\n",
       "      <td>1.0</td>\n",
       "      <td>1.0</td>\n",
       "    </tr>\n",
       "    <tr>\n",
       "      <th>37</th>\n",
       "      <td>Bragantino</td>\n",
       "      <td>1.0</td>\n",
       "      <td>0.0</td>\n",
       "      <td>1.0</td>\n",
       "    </tr>\n",
       "    <tr>\n",
       "      <th>49</th>\n",
       "      <td>XV de Piracicaba</td>\n",
       "      <td>0.0</td>\n",
       "      <td>1.0</td>\n",
       "      <td>1.0</td>\n",
       "    </tr>\n",
       "    <tr>\n",
       "      <th>48</th>\n",
       "      <td>Ipatinga FC</td>\n",
       "      <td>0.0</td>\n",
       "      <td>1.0</td>\n",
       "      <td>1.0</td>\n",
       "    </tr>\n",
       "    <tr>\n",
       "      <th>16</th>\n",
       "      <td>Ceará</td>\n",
       "      <td>1.0</td>\n",
       "      <td>0.0</td>\n",
       "      <td>1.0</td>\n",
       "    </tr>\n",
       "    <tr>\n",
       "      <th>17</th>\n",
       "      <td>Xv De Piracicaba</td>\n",
       "      <td>1.0</td>\n",
       "      <td>0.0</td>\n",
       "      <td>1.0</td>\n",
       "    </tr>\n",
       "    <tr>\n",
       "      <th>18</th>\n",
       "      <td>Paulista de Jundiaí</td>\n",
       "      <td>1.0</td>\n",
       "      <td>0.0</td>\n",
       "      <td>1.0</td>\n",
       "    </tr>\n",
       "    <tr>\n",
       "      <th>19</th>\n",
       "      <td>Rio Branco ES</td>\n",
       "      <td>1.0</td>\n",
       "      <td>0.0</td>\n",
       "      <td>1.0</td>\n",
       "    </tr>\n",
       "    <tr>\n",
       "      <th>22</th>\n",
       "      <td>CSA</td>\n",
       "      <td>1.0</td>\n",
       "      <td>0.0</td>\n",
       "      <td>1.0</td>\n",
       "    </tr>\n",
       "    <tr>\n",
       "      <th>23</th>\n",
       "      <td>Goytacaz</td>\n",
       "      <td>1.0</td>\n",
       "      <td>0.0</td>\n",
       "      <td>1.0</td>\n",
       "    </tr>\n",
       "    <tr>\n",
       "      <th>25</th>\n",
       "      <td>Treze - PB</td>\n",
       "      <td>1.0</td>\n",
       "      <td>0.0</td>\n",
       "      <td>1.0</td>\n",
       "    </tr>\n",
       "    <tr>\n",
       "      <th>26</th>\n",
       "      <td>Vitória</td>\n",
       "      <td>1.0</td>\n",
       "      <td>0.0</td>\n",
       "      <td>1.0</td>\n",
       "    </tr>\n",
       "    <tr>\n",
       "      <th>27</th>\n",
       "      <td>Santa Cruz</td>\n",
       "      <td>1.0</td>\n",
       "      <td>0.0</td>\n",
       "      <td>1.0</td>\n",
       "    </tr>\n",
       "    <tr>\n",
       "      <th>29</th>\n",
       "      <td>ABC-RN</td>\n",
       "      <td>1.0</td>\n",
       "      <td>0.0</td>\n",
       "      <td>1.0</td>\n",
       "    </tr>\n",
       "    <tr>\n",
       "      <th>30</th>\n",
       "      <td>Campinense</td>\n",
       "      <td>1.0</td>\n",
       "      <td>0.0</td>\n",
       "      <td>1.0</td>\n",
       "    </tr>\n",
       "    <tr>\n",
       "      <th>31</th>\n",
       "      <td>Santo André</td>\n",
       "      <td>1.0</td>\n",
       "      <td>0.0</td>\n",
       "      <td>1.0</td>\n",
       "    </tr>\n",
       "    <tr>\n",
       "      <th>32</th>\n",
       "      <td>Guarani</td>\n",
       "      <td>1.0</td>\n",
       "      <td>0.0</td>\n",
       "      <td>1.0</td>\n",
       "    </tr>\n",
       "    <tr>\n",
       "      <th>33</th>\n",
       "      <td>Cascavel FC</td>\n",
       "      <td>1.0</td>\n",
       "      <td>0.0</td>\n",
       "      <td>1.0</td>\n",
       "    </tr>\n",
       "    <tr>\n",
       "      <th>34</th>\n",
       "      <td>Manaus</td>\n",
       "      <td>1.0</td>\n",
       "      <td>0.0</td>\n",
       "      <td>1.0</td>\n",
       "    </tr>\n",
       "    <tr>\n",
       "      <th>35</th>\n",
       "      <td>Remo</td>\n",
       "      <td>1.0</td>\n",
       "      <td>0.0</td>\n",
       "      <td>1.0</td>\n",
       "    </tr>\n",
       "    <tr>\n",
       "      <th>36</th>\n",
       "      <td>Treze / PB</td>\n",
       "      <td>1.0</td>\n",
       "      <td>0.0</td>\n",
       "      <td>1.0</td>\n",
       "    </tr>\n",
       "    <tr>\n",
       "      <th>38</th>\n",
       "      <td>Chape</td>\n",
       "      <td>1.0</td>\n",
       "      <td>0.0</td>\n",
       "      <td>1.0</td>\n",
       "    </tr>\n",
       "    <tr>\n",
       "      <th>41</th>\n",
       "      <td>Atlético-GO</td>\n",
       "      <td>1.0</td>\n",
       "      <td>0.0</td>\n",
       "      <td>1.0</td>\n",
       "    </tr>\n",
       "    <tr>\n",
       "      <th>43</th>\n",
       "      <td>São Raimundo-PA</td>\n",
       "      <td>1.0</td>\n",
       "      <td>0.0</td>\n",
       "      <td>1.0</td>\n",
       "    </tr>\n",
       "    <tr>\n",
       "      <th>47</th>\n",
       "      <td>Nacional Atlético Clube (Barra Funda)</td>\n",
       "      <td>0.0</td>\n",
       "      <td>1.0</td>\n",
       "      <td>1.0</td>\n",
       "    </tr>\n",
       "    <tr>\n",
       "      <th>74</th>\n",
       "      <td>Juventus Mooca</td>\n",
       "      <td>0.0</td>\n",
       "      <td>1.0</td>\n",
       "      <td>1.0</td>\n",
       "    </tr>\n",
       "  </tbody>\n",
       "</table>\n",
       "</div>"
      ],
      "text/plain": [
       "                                                                             index  Clube  Qual é o segundo clube (aquele que fica geograficamente mais longe de você) pro qual você torce?  Total2Clubes\n",
       "1                                                                         Flamengo   11.0                                                                                              13.0          24.0\n",
       "0                                                                      Corinthians   11.0                                                                                               6.0          17.0\n",
       "2                                                                        Palmeiras    7.0                                                                                               7.0          14.0\n",
       "4                                                                        São Paulo    5.0                                                                                               9.0          14.0\n",
       "7                                                                            Vasco    3.0                                                                                               6.0           9.0\n",
       "3                                                                           Grêmio    6.0                                                                                               2.0           8.0\n",
       "42                                                                          Santos    1.0                                                                                               6.0           7.0\n",
       "20                                                                      Fluminense    1.0                                                                                               4.0           5.0\n",
       "5                                                                   Sampaio Corrêa    4.0                                                                                               0.0           4.0\n",
       "6                                                                            Bahia    3.0                                                                                               1.0           4.0\n",
       "15                                                                     Botafogo-RJ    2.0                                                                                               1.0           3.0\n",
       "45                                                                      Portuguesa    0.0                                                                                               3.0           3.0\n",
       "40                                                                     Atlético-MG    1.0                                                                                               2.0           3.0\n",
       "12                                                                       Fortaleza    2.0                                                                                               1.0           3.0\n",
       "8                                                                           Paraná    3.0                                                                                               0.0           3.0\n",
       "13                                                                     Botafogo-PB    2.0                                                                                               0.0           2.0\n",
       "28                                                                         Náutico    1.0                                                                                               1.0           2.0\n",
       "11                                                                        Cruzeiro    2.0                                                                                               0.0           2.0\n",
       "46                                                                    Athletico-PR    0.0                                                                                               2.0           2.0\n",
       "10                                                                           Goiás    2.0                                                                                               0.0           2.0\n",
       "9                                                                       América-RN    2.0                                                                                               0.0           2.0\n",
       "21                                                                   Volta Redonda    1.0                                                                                               1.0           2.0\n",
       "44                                                                            Avaí    1.0                                                                                               1.0           2.0\n",
       "24                                                                        Paysandu    1.0                                                                                               1.0           2.0\n",
       "39                                                                          Cuiabá    1.0                                                                                               1.0           2.0\n",
       "14                                                                        Coritiba    2.0                                                                                               0.0           2.0\n",
       "57                                                                        Treze FC    0.0                                                                                               1.0           1.0\n",
       "56                                                                    Penapolense     0.0                                                                                               1.0           1.0\n",
       "53                                                                         Pelotas    0.0                                                                                               1.0           1.0\n",
       "55  Flamengo (gostaria de deixar claro que torço para o Mengo desde antes de 2019)    0.0                                                                                               1.0           1.0\n",
       "54                                                                        Operário    0.0                                                                                               1.0           1.0\n",
       "59                                                            Treze-FC, da Paraiba    0.0                                                                                               1.0           1.0\n",
       "52                                                          Desportiva Ferroviária    0.0                                                                                               1.0           1.0\n",
       "58                                                                   Villa Nova MG    0.0                                                                                               1.0           1.0\n",
       "67                                                                 Da minha cidade    0.0                                                                                               1.0           1.0\n",
       "60                                                                    ABC de Natal    0.0                                                                                               1.0           1.0\n",
       "61                                                            São Bento (Sorocaba)    0.0                                                                                               1.0           1.0\n",
       "62                                                                          Treze     0.0                                                                                               1.0           1.0\n",
       "63                                                                  Rio Branco-ES     0.0                                                                                               1.0           1.0\n",
       "64                                                                     Nova Iguaçu    0.0                                                                                               1.0           1.0\n",
       "65                                                                        Criciúma    0.0                                                                                               1.0           1.0\n",
       "66                                                                           Bangu    0.0                                                                                               1.0           1.0\n",
       "50                                                             Ypiranga de Erechim    0.0                                                                                               1.0           1.0\n",
       "68                                                            Paulista de Jundiaí     0.0                                                                                               1.0           1.0\n",
       "69                                                                        Londrina    0.0                                                                                               1.0           1.0\n",
       "70                                                                    Campo Grande    0.0                                                                                               1.0           1.0\n",
       "71                                                    Esportivo - Bento Gonçalves     0.0                                                                                               1.0           1.0\n",
       "72                                                                        Taubaté     0.0                                                                                               1.0           1.0\n",
       "73                                                             Portuguesa Santista    0.0                                                                                               1.0           1.0\n",
       "51                                                                   Juventus (SP)    0.0                                                                                               1.0           1.0\n",
       "37                                                                      Bragantino    1.0                                                                                               0.0           1.0\n",
       "49                                                                XV de Piracicaba    0.0                                                                                               1.0           1.0\n",
       "48                                                                     Ipatinga FC    0.0                                                                                               1.0           1.0\n",
       "16                                                                           Ceará    1.0                                                                                               0.0           1.0\n",
       "17                                                                Xv De Piracicaba    1.0                                                                                               0.0           1.0\n",
       "18                                                             Paulista de Jundiaí    1.0                                                                                               0.0           1.0\n",
       "19                                                                   Rio Branco ES    1.0                                                                                               0.0           1.0\n",
       "22                                                                             CSA    1.0                                                                                               0.0           1.0\n",
       "23                                                                        Goytacaz    1.0                                                                                               0.0           1.0\n",
       "25                                                                      Treze - PB    1.0                                                                                               0.0           1.0\n",
       "26                                                                         Vitória    1.0                                                                                               0.0           1.0\n",
       "27                                                                      Santa Cruz    1.0                                                                                               0.0           1.0\n",
       "29                                                                          ABC-RN    1.0                                                                                               0.0           1.0\n",
       "30                                                                     Campinense     1.0                                                                                               0.0           1.0\n",
       "31                                                                     Santo André    1.0                                                                                               0.0           1.0\n",
       "32                                                                         Guarani    1.0                                                                                               0.0           1.0\n",
       "33                                                                     Cascavel FC    1.0                                                                                               0.0           1.0\n",
       "34                                                                          Manaus    1.0                                                                                               0.0           1.0\n",
       "35                                                                            Remo    1.0                                                                                               0.0           1.0\n",
       "36                                                                      Treze / PB    1.0                                                                                               0.0           1.0\n",
       "38                                                                           Chape    1.0                                                                                               0.0           1.0\n",
       "41                                                                     Atlético-GO    1.0                                                                                               0.0           1.0\n",
       "43                                                                 São Raimundo-PA    1.0                                                                                               0.0           1.0\n",
       "47                                           Nacional Atlético Clube (Barra Funda)    0.0                                                                                               1.0           1.0\n",
       "74                                                                  Juventus Mooca    0.0                                                                                               1.0           1.0"
      ]
     },
     "execution_count": 43,
     "metadata": {},
     "output_type": "execute_result"
    }
   ],
   "source": [
    "# Esse script calcula quais clubes são mais populares entre usuários que torcem pra dois clubes.\n",
    "\n",
    "df2clubes = df2[(df2['Você se considera torcedor de dois clubes brasileiros?'] == 'Sim') & (df2['Torcedor Único'] != 'Confusos')][['Clube', 'Qual é o segundo clube (aquele que fica geograficamente mais longe de você) pro qual você torce?']].copy()\n",
    "primeiroclube = df2clubes['Clube'].value_counts().to_frame().reset_index()\n",
    "segundoclube = df2clubes['Qual é o segundo clube (aquele que fica geograficamente mais longe de você) pro qual você torce?'].value_counts().to_frame().reset_index()\n",
    "df2clubestotal = primeiroclube.merge(segundoclube, how='outer', on='index')\n",
    "df2clubestotal = df2clubestotal.fillna(value=0)\n",
    "df2clubestotal['Total2Clubes'] = df2clubestotal['Clube'] + df2clubestotal['Qual é o segundo clube (aquele que fica geograficamente mais longe de você) pro qual você torce?']\n",
    "df2clubestotal.sort_values(by = 'Total2Clubes', ascending = False)"
   ]
  },
  {
   "cell_type": "code",
   "execution_count": 44,
   "id": "d0ab5520",
   "metadata": {},
   "outputs": [],
   "source": [
    "df2 = df2.merge(df2clubestotal, how='left', left_on='Clube', right_on='index')\n",
    "df2 = df2.drop(columns=['index', 'Clube_y', 'Qual é o segundo clube (aquele que fica geograficamente mais longe de você) pro qual você torce?_y'])"
   ]
  },
  {
   "cell_type": "code",
   "execution_count": 45,
   "id": "ab7b6ee7",
   "metadata": {},
   "outputs": [],
   "source": [
    "df2.to_excel('Output do Python do Censo do r-futebol de Dezembro de 2022.xlsx', index = False)"
   ]
  }
 ],
 "metadata": {
  "kernelspec": {
   "display_name": "Python 3 (ipykernel)",
   "language": "python",
   "name": "python3"
  },
  "language_info": {
   "codemirror_mode": {
    "name": "ipython",
    "version": 3
   },
   "file_extension": ".py",
   "mimetype": "text/x-python",
   "name": "python",
   "nbconvert_exporter": "python",
   "pygments_lexer": "ipython3",
   "version": "3.7.7"
  }
 },
 "nbformat": 4,
 "nbformat_minor": 5
}
